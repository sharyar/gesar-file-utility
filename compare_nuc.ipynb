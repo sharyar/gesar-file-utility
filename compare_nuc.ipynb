{
 "cells": [
  {
   "cell_type": "code",
   "execution_count": 1,
   "metadata": {},
   "outputs": [],
   "source": [
    "import pandas as pd\n",
    "import numpy as np\n",
    "import matplotlib.pyplot as plt\n",
    "import numpy.ma as ma\n",
    "\n",
    "plt.style.use('dark_background')"
   ]
  },
  {
   "cell_type": "code",
   "execution_count": 2,
   "metadata": {},
   "outputs": [],
   "source": [
    "from helper_functions import load_vt_unfiltered_df, load_48_hd_files, clean_48_zip_files"
   ]
  },
  {
   "cell_type": "code",
   "execution_count": 3,
   "metadata": {},
   "outputs": [],
   "source": [
    "VT_FILE_PATH = 'data_files/VT_unfiltered_Feb.txt'\n",
    "HD_48_FILE_PATH = 'data_files/unzipped_files/'\n",
    "\n",
    "# only run this once!\n",
    "# clean_48_zip_files(HD_48_FILE_PATH)"
   ]
  },
  {
   "cell_type": "code",
   "execution_count": 4,
   "metadata": {},
   "outputs": [
    {
     "ename": "KeyboardInterrupt",
     "evalue": "",
     "output_type": "error",
     "traceback": [
      "\u001b[1;31m---------------------------------------------------------------------------\u001b[0m",
      "\u001b[1;31mKeyboardInterrupt\u001b[0m                         Traceback (most recent call last)",
      "\u001b[1;32m<ipython-input-4-fef8429d07ed>\u001b[0m in \u001b[0;36m<module>\u001b[1;34m\u001b[0m\n\u001b[1;32m----> 1\u001b[1;33m \u001b[0mdf_vt\u001b[0m\u001b[1;33m,\u001b[0m \u001b[0mvt_first_row\u001b[0m \u001b[1;33m=\u001b[0m \u001b[0mload_vt_unfiltered_df\u001b[0m\u001b[1;33m(\u001b[0m\u001b[0mVT_FILE_PATH\u001b[0m\u001b[1;33m,\u001b[0m \u001b[1;32mTrue\u001b[0m\u001b[1;33m,\u001b[0m \u001b[1;34m'sum'\u001b[0m\u001b[1;33m)\u001b[0m\u001b[1;33m\u001b[0m\u001b[1;33m\u001b[0m\u001b[0m\n\u001b[0m",
      "\u001b[1;32m~\\Github\\gesar-file-utility\\helper_functions.py\u001b[0m in \u001b[0;36mload_vt_unfiltered_df\u001b[1;34m(file_path, trim, keep)\u001b[0m\n\u001b[0;32m     69\u001b[0m         \u001b[1;33m[\u001b[0m\u001b[0mdf\u001b[0m\u001b[1;33m]\u001b[0m\u001b[1;33m:\u001b[0m \u001b[0mDataframe\u001b[0m \u001b[1;32mfor\u001b[0m \u001b[0mVT_unfiltered\u001b[0m\u001b[1;33m\u001b[0m\u001b[1;33m\u001b[0m\u001b[0m\n\u001b[0;32m     70\u001b[0m     \"\"\"\n\u001b[1;32m---> 71\u001b[1;33m     \u001b[0mdf\u001b[0m \u001b[1;33m=\u001b[0m \u001b[0mpd\u001b[0m\u001b[1;33m.\u001b[0m\u001b[0mread_fwf\u001b[0m\u001b[1;33m(\u001b[0m\u001b[0mfile_path\u001b[0m\u001b[1;33m,\u001b[0m \u001b[0mcolspecs\u001b[0m\u001b[1;33m=\u001b[0m\u001b[1;34m'infer'\u001b[0m\u001b[1;33m)\u001b[0m\u001b[1;33m\u001b[0m\u001b[1;33m\u001b[0m\u001b[0m\n\u001b[0m\u001b[0;32m     72\u001b[0m     \u001b[1;31m# Drops the first row containing the totals\u001b[0m\u001b[1;33m\u001b[0m\u001b[1;33m\u001b[0m\u001b[1;33m\u001b[0m\u001b[0m\n\u001b[0;32m     73\u001b[0m     \u001b[0mfirst_row\u001b[0m \u001b[1;33m=\u001b[0m \u001b[0mdf\u001b[0m\u001b[1;33m.\u001b[0m\u001b[0miloc\u001b[0m\u001b[1;33m[\u001b[0m\u001b[1;33m:\u001b[0m\u001b[1;36m1\u001b[0m\u001b[1;33m,\u001b[0m \u001b[1;33m:\u001b[0m\u001b[1;33m]\u001b[0m\u001b[1;33m\u001b[0m\u001b[1;33m\u001b[0m\u001b[0m\n",
      "\u001b[1;32m~\\.conda\\envs\\gesar-pc\\lib\\site-packages\\pandas\\io\\parsers.py\u001b[0m in \u001b[0;36mread_fwf\u001b[1;34m(filepath_or_buffer, colspecs, widths, infer_nrows, **kwds)\u001b[0m\n\u001b[0;32m    768\u001b[0m     \u001b[0mkwds\u001b[0m\u001b[1;33m[\u001b[0m\u001b[1;34m\"infer_nrows\"\u001b[0m\u001b[1;33m]\u001b[0m \u001b[1;33m=\u001b[0m \u001b[0minfer_nrows\u001b[0m\u001b[1;33m\u001b[0m\u001b[1;33m\u001b[0m\u001b[0m\n\u001b[0;32m    769\u001b[0m     \u001b[0mkwds\u001b[0m\u001b[1;33m[\u001b[0m\u001b[1;34m\"engine\"\u001b[0m\u001b[1;33m]\u001b[0m \u001b[1;33m=\u001b[0m \u001b[1;34m\"python-fwf\"\u001b[0m\u001b[1;33m\u001b[0m\u001b[1;33m\u001b[0m\u001b[0m\n\u001b[1;32m--> 770\u001b[1;33m     \u001b[1;32mreturn\u001b[0m \u001b[0m_read\u001b[0m\u001b[1;33m(\u001b[0m\u001b[0mfilepath_or_buffer\u001b[0m\u001b[1;33m,\u001b[0m \u001b[0mkwds\u001b[0m\u001b[1;33m)\u001b[0m\u001b[1;33m\u001b[0m\u001b[1;33m\u001b[0m\u001b[0m\n\u001b[0m\u001b[0;32m    771\u001b[0m \u001b[1;33m\u001b[0m\u001b[0m\n\u001b[0;32m    772\u001b[0m \u001b[1;33m\u001b[0m\u001b[0m\n",
      "\u001b[1;32m~\\.conda\\envs\\gesar-pc\\lib\\site-packages\\pandas\\io\\parsers.py\u001b[0m in \u001b[0;36m_read\u001b[1;34m(filepath_or_buffer, kwds)\u001b[0m\n\u001b[0;32m    466\u001b[0m \u001b[1;33m\u001b[0m\u001b[0m\n\u001b[0;32m    467\u001b[0m     \u001b[1;32mwith\u001b[0m \u001b[0mparser\u001b[0m\u001b[1;33m:\u001b[0m\u001b[1;33m\u001b[0m\u001b[1;33m\u001b[0m\u001b[0m\n\u001b[1;32m--> 468\u001b[1;33m         \u001b[1;32mreturn\u001b[0m \u001b[0mparser\u001b[0m\u001b[1;33m.\u001b[0m\u001b[0mread\u001b[0m\u001b[1;33m(\u001b[0m\u001b[0mnrows\u001b[0m\u001b[1;33m)\u001b[0m\u001b[1;33m\u001b[0m\u001b[1;33m\u001b[0m\u001b[0m\n\u001b[0m\u001b[0;32m    469\u001b[0m \u001b[1;33m\u001b[0m\u001b[0m\n\u001b[0;32m    470\u001b[0m \u001b[1;33m\u001b[0m\u001b[0m\n",
      "\u001b[1;32m~\\.conda\\envs\\gesar-pc\\lib\\site-packages\\pandas\\io\\parsers.py\u001b[0m in \u001b[0;36mread\u001b[1;34m(self, nrows)\u001b[0m\n\u001b[0;32m   1055\u001b[0m     \u001b[1;32mdef\u001b[0m \u001b[0mread\u001b[0m\u001b[1;33m(\u001b[0m\u001b[0mself\u001b[0m\u001b[1;33m,\u001b[0m \u001b[0mnrows\u001b[0m\u001b[1;33m=\u001b[0m\u001b[1;32mNone\u001b[0m\u001b[1;33m)\u001b[0m\u001b[1;33m:\u001b[0m\u001b[1;33m\u001b[0m\u001b[1;33m\u001b[0m\u001b[0m\n\u001b[0;32m   1056\u001b[0m         \u001b[0mnrows\u001b[0m \u001b[1;33m=\u001b[0m \u001b[0mvalidate_integer\u001b[0m\u001b[1;33m(\u001b[0m\u001b[1;34m\"nrows\"\u001b[0m\u001b[1;33m,\u001b[0m \u001b[0mnrows\u001b[0m\u001b[1;33m)\u001b[0m\u001b[1;33m\u001b[0m\u001b[1;33m\u001b[0m\u001b[0m\n\u001b[1;32m-> 1057\u001b[1;33m         \u001b[0mindex\u001b[0m\u001b[1;33m,\u001b[0m \u001b[0mcolumns\u001b[0m\u001b[1;33m,\u001b[0m \u001b[0mcol_dict\u001b[0m \u001b[1;33m=\u001b[0m \u001b[0mself\u001b[0m\u001b[1;33m.\u001b[0m\u001b[0m_engine\u001b[0m\u001b[1;33m.\u001b[0m\u001b[0mread\u001b[0m\u001b[1;33m(\u001b[0m\u001b[0mnrows\u001b[0m\u001b[1;33m)\u001b[0m\u001b[1;33m\u001b[0m\u001b[1;33m\u001b[0m\u001b[0m\n\u001b[0m\u001b[0;32m   1058\u001b[0m \u001b[1;33m\u001b[0m\u001b[0m\n\u001b[0;32m   1059\u001b[0m         \u001b[1;32mif\u001b[0m \u001b[0mindex\u001b[0m \u001b[1;32mis\u001b[0m \u001b[1;32mNone\u001b[0m\u001b[1;33m:\u001b[0m\u001b[1;33m\u001b[0m\u001b[1;33m\u001b[0m\u001b[0m\n",
      "\u001b[1;32m~\\.conda\\envs\\gesar-pc\\lib\\site-packages\\pandas\\io\\parsers.py\u001b[0m in \u001b[0;36mread\u001b[1;34m(self, rows)\u001b[0m\n\u001b[0;32m   2463\u001b[0m     \u001b[1;32mdef\u001b[0m \u001b[0mread\u001b[0m\u001b[1;33m(\u001b[0m\u001b[0mself\u001b[0m\u001b[1;33m,\u001b[0m \u001b[0mrows\u001b[0m\u001b[1;33m=\u001b[0m\u001b[1;32mNone\u001b[0m\u001b[1;33m)\u001b[0m\u001b[1;33m:\u001b[0m\u001b[1;33m\u001b[0m\u001b[1;33m\u001b[0m\u001b[0m\n\u001b[0;32m   2464\u001b[0m         \u001b[1;32mtry\u001b[0m\u001b[1;33m:\u001b[0m\u001b[1;33m\u001b[0m\u001b[1;33m\u001b[0m\u001b[0m\n\u001b[1;32m-> 2465\u001b[1;33m             \u001b[0mcontent\u001b[0m \u001b[1;33m=\u001b[0m \u001b[0mself\u001b[0m\u001b[1;33m.\u001b[0m\u001b[0m_get_lines\u001b[0m\u001b[1;33m(\u001b[0m\u001b[0mrows\u001b[0m\u001b[1;33m)\u001b[0m\u001b[1;33m\u001b[0m\u001b[1;33m\u001b[0m\u001b[0m\n\u001b[0m\u001b[0;32m   2466\u001b[0m         \u001b[1;32mexcept\u001b[0m \u001b[0mStopIteration\u001b[0m\u001b[1;33m:\u001b[0m\u001b[1;33m\u001b[0m\u001b[1;33m\u001b[0m\u001b[0m\n\u001b[0;32m   2467\u001b[0m             \u001b[1;32mif\u001b[0m \u001b[0mself\u001b[0m\u001b[1;33m.\u001b[0m\u001b[0m_first_chunk\u001b[0m\u001b[1;33m:\u001b[0m\u001b[1;33m\u001b[0m\u001b[1;33m\u001b[0m\u001b[0m\n",
      "\u001b[1;32m~\\.conda\\envs\\gesar-pc\\lib\\site-packages\\pandas\\io\\parsers.py\u001b[0m in \u001b[0;36m_get_lines\u001b[1;34m(self, rows)\u001b[0m\n\u001b[0;32m   3265\u001b[0m \u001b[1;33m\u001b[0m\u001b[0m\n\u001b[0;32m   3266\u001b[0m                         \u001b[1;32mwhile\u001b[0m \u001b[1;32mTrue\u001b[0m\u001b[1;33m:\u001b[0m\u001b[1;33m\u001b[0m\u001b[1;33m\u001b[0m\u001b[0m\n\u001b[1;32m-> 3267\u001b[1;33m                             \u001b[0mnew_row\u001b[0m \u001b[1;33m=\u001b[0m \u001b[0mself\u001b[0m\u001b[1;33m.\u001b[0m\u001b[0m_next_iter_line\u001b[0m\u001b[1;33m(\u001b[0m\u001b[0mrow_num\u001b[0m\u001b[1;33m=\u001b[0m\u001b[0mself\u001b[0m\u001b[1;33m.\u001b[0m\u001b[0mpos\u001b[0m \u001b[1;33m+\u001b[0m \u001b[0mrows\u001b[0m \u001b[1;33m+\u001b[0m \u001b[1;36m1\u001b[0m\u001b[1;33m)\u001b[0m\u001b[1;33m\u001b[0m\u001b[1;33m\u001b[0m\u001b[0m\n\u001b[0m\u001b[0;32m   3268\u001b[0m                             \u001b[0mrows\u001b[0m \u001b[1;33m+=\u001b[0m \u001b[1;36m1\u001b[0m\u001b[1;33m\u001b[0m\u001b[1;33m\u001b[0m\u001b[0m\n\u001b[0;32m   3269\u001b[0m \u001b[1;33m\u001b[0m\u001b[0m\n",
      "\u001b[1;32m~\\.conda\\envs\\gesar-pc\\lib\\site-packages\\pandas\\io\\parsers.py\u001b[0m in \u001b[0;36m_next_iter_line\u001b[1;34m(self, row_num)\u001b[0m\n\u001b[0;32m   2966\u001b[0m             \u001b[1;31m# assert for mypy, data is Iterator[str] or None, would error in next\u001b[0m\u001b[1;33m\u001b[0m\u001b[1;33m\u001b[0m\u001b[1;33m\u001b[0m\u001b[0m\n\u001b[0;32m   2967\u001b[0m             \u001b[1;32massert\u001b[0m \u001b[0mself\u001b[0m\u001b[1;33m.\u001b[0m\u001b[0mdata\u001b[0m \u001b[1;32mis\u001b[0m \u001b[1;32mnot\u001b[0m \u001b[1;32mNone\u001b[0m\u001b[1;33m\u001b[0m\u001b[1;33m\u001b[0m\u001b[0m\n\u001b[1;32m-> 2968\u001b[1;33m             \u001b[1;32mreturn\u001b[0m \u001b[0mnext\u001b[0m\u001b[1;33m(\u001b[0m\u001b[0mself\u001b[0m\u001b[1;33m.\u001b[0m\u001b[0mdata\u001b[0m\u001b[1;33m)\u001b[0m\u001b[1;33m\u001b[0m\u001b[1;33m\u001b[0m\u001b[0m\n\u001b[0m\u001b[0;32m   2969\u001b[0m         \u001b[1;32mexcept\u001b[0m \u001b[0mcsv\u001b[0m\u001b[1;33m.\u001b[0m\u001b[0mError\u001b[0m \u001b[1;32mas\u001b[0m \u001b[0me\u001b[0m\u001b[1;33m:\u001b[0m\u001b[1;33m\u001b[0m\u001b[1;33m\u001b[0m\u001b[0m\n\u001b[0;32m   2970\u001b[0m             \u001b[1;32mif\u001b[0m \u001b[0mself\u001b[0m\u001b[1;33m.\u001b[0m\u001b[0mwarn_bad_lines\u001b[0m \u001b[1;32mor\u001b[0m \u001b[0mself\u001b[0m\u001b[1;33m.\u001b[0m\u001b[0merror_bad_lines\u001b[0m\u001b[1;33m:\u001b[0m\u001b[1;33m\u001b[0m\u001b[1;33m\u001b[0m\u001b[0m\n",
      "\u001b[1;32m~\\.conda\\envs\\gesar-pc\\lib\\site-packages\\pandas\\io\\parsers.py\u001b[0m in \u001b[0;36m__next__\u001b[1;34m(self)\u001b[0m\n\u001b[0;32m   3743\u001b[0m                 \u001b[0mline\u001b[0m \u001b[1;33m=\u001b[0m \u001b[0mnext\u001b[0m\u001b[1;33m(\u001b[0m\u001b[0mself\u001b[0m\u001b[1;33m.\u001b[0m\u001b[0mf\u001b[0m\u001b[1;33m)\u001b[0m\u001b[1;33m\u001b[0m\u001b[1;33m\u001b[0m\u001b[0m\n\u001b[0;32m   3744\u001b[0m         \u001b[1;32melse\u001b[0m\u001b[1;33m:\u001b[0m\u001b[1;33m\u001b[0m\u001b[1;33m\u001b[0m\u001b[0m\n\u001b[1;32m-> 3745\u001b[1;33m             \u001b[0mline\u001b[0m \u001b[1;33m=\u001b[0m \u001b[0mnext\u001b[0m\u001b[1;33m(\u001b[0m\u001b[0mself\u001b[0m\u001b[1;33m.\u001b[0m\u001b[0mf\u001b[0m\u001b[1;33m)\u001b[0m\u001b[1;33m\u001b[0m\u001b[1;33m\u001b[0m\u001b[0m\n\u001b[0m\u001b[0;32m   3746\u001b[0m         \u001b[1;31m# Note: 'colspecs' is a sequence of half-open intervals.\u001b[0m\u001b[1;33m\u001b[0m\u001b[1;33m\u001b[0m\u001b[1;33m\u001b[0m\u001b[0m\n\u001b[0;32m   3747\u001b[0m         \u001b[1;32mreturn\u001b[0m \u001b[1;33m[\u001b[0m\u001b[0mline\u001b[0m\u001b[1;33m[\u001b[0m\u001b[0mfromm\u001b[0m\u001b[1;33m:\u001b[0m\u001b[0mto\u001b[0m\u001b[1;33m]\u001b[0m\u001b[1;33m.\u001b[0m\u001b[0mstrip\u001b[0m\u001b[1;33m(\u001b[0m\u001b[0mself\u001b[0m\u001b[1;33m.\u001b[0m\u001b[0mdelimiter\u001b[0m\u001b[1;33m)\u001b[0m \u001b[1;32mfor\u001b[0m \u001b[1;33m(\u001b[0m\u001b[0mfromm\u001b[0m\u001b[1;33m,\u001b[0m \u001b[0mto\u001b[0m\u001b[1;33m)\u001b[0m \u001b[1;32min\u001b[0m \u001b[0mself\u001b[0m\u001b[1;33m.\u001b[0m\u001b[0mcolspecs\u001b[0m\u001b[1;33m]\u001b[0m\u001b[1;33m\u001b[0m\u001b[1;33m\u001b[0m\u001b[0m\n",
      "\u001b[1;32m~\\.conda\\envs\\gesar-pc\\lib\\codecs.py\u001b[0m in \u001b[0;36mdecode\u001b[1;34m(self, input, final)\u001b[0m\n\u001b[0;32m    317\u001b[0m         \u001b[1;32mraise\u001b[0m \u001b[0mNotImplementedError\u001b[0m\u001b[1;33m\u001b[0m\u001b[1;33m\u001b[0m\u001b[0m\n\u001b[0;32m    318\u001b[0m \u001b[1;33m\u001b[0m\u001b[0m\n\u001b[1;32m--> 319\u001b[1;33m     \u001b[1;32mdef\u001b[0m \u001b[0mdecode\u001b[0m\u001b[1;33m(\u001b[0m\u001b[0mself\u001b[0m\u001b[1;33m,\u001b[0m \u001b[0minput\u001b[0m\u001b[1;33m,\u001b[0m \u001b[0mfinal\u001b[0m\u001b[1;33m=\u001b[0m\u001b[1;32mFalse\u001b[0m\u001b[1;33m)\u001b[0m\u001b[1;33m:\u001b[0m\u001b[1;33m\u001b[0m\u001b[1;33m\u001b[0m\u001b[0m\n\u001b[0m\u001b[0;32m    320\u001b[0m         \u001b[1;31m# decode input (taking the buffer into account)\u001b[0m\u001b[1;33m\u001b[0m\u001b[1;33m\u001b[0m\u001b[1;33m\u001b[0m\u001b[0m\n\u001b[0;32m    321\u001b[0m         \u001b[0mdata\u001b[0m \u001b[1;33m=\u001b[0m \u001b[0mself\u001b[0m\u001b[1;33m.\u001b[0m\u001b[0mbuffer\u001b[0m \u001b[1;33m+\u001b[0m \u001b[0minput\u001b[0m\u001b[1;33m\u001b[0m\u001b[1;33m\u001b[0m\u001b[0m\n",
      "\u001b[1;31mKeyboardInterrupt\u001b[0m: "
     ]
    }
   ],
   "source": [
    "df_vt, vt_first_row = load_vt_unfiltered_df(VT_FILE_PATH, True, 'sum')"
   ]
  },
  {
   "cell_type": "code",
   "execution_count": null,
   "metadata": {},
   "outputs": [],
   "source": [
    "df_48, df_48_first_row = load_48_hd_files(HD_48_FILE_PATH, True, True)\n"
   ]
  },
  {
   "cell_type": "code",
   "execution_count": null,
   "metadata": {
    "collapsed": false,
    "jupyter": {
     "outputs_hidden": false
    },
    "pycharm": {
     "name": "#%%\n"
    }
   },
   "outputs": [],
   "source": [
    "df_vt"
   ]
  },
  {
   "cell_type": "code",
   "execution_count": null,
   "metadata": {},
   "outputs": [],
   "source": [
    "df_48"
   ]
  },
  {
   "cell_type": "code",
   "execution_count": null,
   "metadata": {},
   "outputs": [],
   "source": [
    "intersecting_nucleotides = df_vt.index.intersection(df_48.index)"
   ]
  },
  {
   "cell_type": "code",
   "execution_count": null,
   "metadata": {},
   "outputs": [],
   "source": [
    "# Creates new dfs which only contain the intersecting nuc sequences so they can be compared\n",
    "# The order of indices is the same in both dfs so they can be easily compared!\n",
    "\n",
    "df_vt_itx = df_vt.loc[intersecting_nucleotides]\n",
    "df_48_itx = df_48.loc[intersecting_nucleotides]"
   ]
  },
  {
   "cell_type": "code",
   "execution_count": 56,
   "metadata": {},
   "outputs": [],
   "source": [
    "def custom_diff_metric(df_48,df_vt):\n",
    "    \"\"\" Creates a custom correlation based on masked values within given arrays\"\"\"\n",
    "    # Use for df_vt and df_48 comparision\n",
    "\n",
    "    a_masked = ma.masked_values(df_48, 0)\n",
    "    b_masked = ma.masked_values(df_vt, 0)\n",
    "\n",
    "    # this ensures that the mask is only applied when both columns are 0 for a given seq\n",
    "    new_mask = np.logical_and(a_masked.mask, b_masked.mask)\n",
    "\n",
    "    # update masks:\n",
    "    a_masked.mask = new_mask\n",
    "    b_masked.mask = new_mask\n",
    "\n",
    "    c = ma.absolute(ma.subtract(a_masked, b_masked))\n",
    "    d = ma.divide(c, b_masked)\n",
    "    d = ma.mean(d)*100\n",
    "    \n",
    "    matched_rows = len(a_masked.nonzero())\n",
    "\n",
    "    return d, c.count()\n",
    "    \n",
    "def equal_cols(col_48_1, col_vt_1):\n",
    "    # Count equals in two columns. Return a tuple with: (count true, count false, count true/total)\n",
    "    bool_count = np.equal(col_48_1, col_vt_1)\n",
    "    positive_count = np.sum(bool_count)\n",
    "    negative_count = len(bool_count) - positive_count\n",
    "    positive_proportion = positive_count / len(bool_count)\n",
    "\n",
    "    return positive_count, negative_count, positive_proportion\n",
    "\n",
    "def equal_cols_masked(col_48_1, col_vt_1):\n",
    "    a_masked = ma.masked_values(col_48_1, 0)\n",
    "    b_masked = ma.masked_values(col_vt_1, 0)\n",
    "\n",
    "    # this ensures that the mask is only applied when both columns are 0 for a given seq\n",
    "    new_mask = np.logical_and(a_masked.mask, b_masked.mask)\n",
    "\n",
    "    # update masks:\n",
    "    a_masked.mask = new_mask\n",
    "    b_masked.mask = new_mask\n",
    "\n",
    "    # bool_count = ma.equal(a_masked, b_masked)\n",
    "    bool_count = np.isclose(a_masked, b_masked, rtol=0.2, atol=0)\n",
    "    positive_count = bool_count.sum()\n",
    "    negative_count = bool_count.count() - positive_count\n",
    "    positive_proportion = positive_count / bool_count.count()\n",
    "\n",
    "    return positive_count, negative_count, positive_proportion"
   ]
  },
  {
   "cell_type": "code",
   "execution_count": 16,
   "metadata": {},
   "outputs": [],
   "source": [
    "# EQUALS Columns Approach\n",
    "\n",
    "col_vt = list(df_vt_itx.columns)\n",
    "col_48 = list(df_48_itx.columns)\n",
    "\n",
    "corr_dict = {}\n",
    "\n",
    "for col_1 in col_vt:\n",
    "    for col_2 in col_48:\n",
    "        corr_dict[(col_1,col_2)] = equal_cols(df_48_itx[col_2],df_vt_itx[col_1])\n",
    "        \n",
    "corr_dict_keys = []\n",
    "corr_tuple = []\n",
    "\n",
    "for key, val in corr_dict.items():\n",
    "    corr_dict_keys.append(key)\n",
    "    corr_tuple.append(val)\n",
    "\n",
    "corr_equals_df = pd.DataFrame(corr_tuple,\n",
    "                            index=corr_dict_keys, columns=['Positive', 'Negative', 'Proportion'])\n"
   ]
  },
  {
   "cell_type": "code",
   "execution_count": 20,
   "metadata": {},
   "outputs": [],
   "source": [
    "corr_equals_df.sort_values(by='Proportion', ascending=False).to_csv('equals_correlation.csv')"
   ]
  },
  {
   "cell_type": "code",
   "execution_count": 31,
   "metadata": {},
   "outputs": [],
   "source": [
    "# Masked EQUALS Columns Approach\n",
    "col_vt = list(df_vt_itx.columns)\n",
    "col_48 = list(df_48_itx.columns)\n",
    "\n",
    "corr_dict = {}\n",
    "\n",
    "for col_1 in col_vt:\n",
    "    for col_2 in col_48:\n",
    "        corr_dict[(col_1,col_2)] = equal_cols_masked(df_48_itx[col_2],df_vt_itx[col_1])\n",
    "        \n",
    "corr_dict_keys = []\n",
    "corr_tuple = []\n",
    "\n",
    "for key, val in corr_dict.items():\n",
    "    corr_dict_keys.append(key)\n",
    "    corr_tuple.append(val)\n",
    "\n",
    "corr_equals_masked_df = pd.DataFrame(corr_tuple,\n",
    "                            index=corr_dict_keys, columns=['Positive', 'Negative', 'Proportion'])"
   ]
  },
  {
   "cell_type": "code",
   "execution_count": 32,
   "metadata": {},
   "outputs": [
    {
     "data": {
      "text/html": [
       "<div>\n",
       "<style scoped>\n",
       "    .dataframe tbody tr th:only-of-type {\n",
       "        vertical-align: middle;\n",
       "    }\n",
       "\n",
       "    .dataframe tbody tr th {\n",
       "        vertical-align: top;\n",
       "    }\n",
       "\n",
       "    .dataframe thead th {\n",
       "        text-align: right;\n",
       "    }\n",
       "</style>\n",
       "<table border=\"1\" class=\"dataframe\">\n",
       "  <thead>\n",
       "    <tr style=\"text-align: right;\">\n",
       "      <th></th>\n",
       "      <th>Positive</th>\n",
       "      <th>Negative</th>\n",
       "      <th>Proportion</th>\n",
       "    </tr>\n",
       "  </thead>\n",
       "  <tbody>\n",
       "    <tr>\n",
       "      <th>(VT20, 20180222-57NYooVH-VT__R7F2_RN1RP3)</th>\n",
       "      <td>29136</td>\n",
       "      <td>153523</td>\n",
       "      <td>0.159510</td>\n",
       "    </tr>\n",
       "    <tr>\n",
       "      <th>(VT23, 20180222-57NYooVH-VT__R7F2_RN1RP3)</th>\n",
       "      <td>28908</td>\n",
       "      <td>143882</td>\n",
       "      <td>0.167301</td>\n",
       "    </tr>\n",
       "    <tr>\n",
       "      <th>(VT19, 20180222-57NYooVH-VT__R7F2_RN1RP3)</th>\n",
       "      <td>28858</td>\n",
       "      <td>148776</td>\n",
       "      <td>0.162458</td>\n",
       "    </tr>\n",
       "    <tr>\n",
       "      <th>(VT23, 20180222-70OOooVH-VT__R7F4_RN1RP3)</th>\n",
       "      <td>28838</td>\n",
       "      <td>142644</td>\n",
       "      <td>0.168169</td>\n",
       "    </tr>\n",
       "    <tr>\n",
       "      <th>(VT24, 20180222-57NYooVH-VT__R7F2_RN1RP3)</th>\n",
       "      <td>28833</td>\n",
       "      <td>144388</td>\n",
       "      <td>0.166452</td>\n",
       "    </tr>\n",
       "    <tr>\n",
       "      <th>...</th>\n",
       "      <td>...</td>\n",
       "      <td>...</td>\n",
       "      <td>...</td>\n",
       "    </tr>\n",
       "    <tr>\n",
       "      <th>(VT15, 20180222-24NYsaVH-VG__R3F17_RN1RP3)</th>\n",
       "      <td>0</td>\n",
       "      <td>1534</td>\n",
       "      <td>0.000000</td>\n",
       "    </tr>\n",
       "    <tr>\n",
       "      <th>(VT15, 20180222-24OOooVH-VG__R9F9_RN1RP1)</th>\n",
       "      <td>0</td>\n",
       "      <td>352</td>\n",
       "      <td>0.000000</td>\n",
       "    </tr>\n",
       "    <tr>\n",
       "      <th>(VT15, 20180222-24OOooVH-VG__R9F10_RN1RP2)</th>\n",
       "      <td>0</td>\n",
       "      <td>309</td>\n",
       "      <td>0.000000</td>\n",
       "    </tr>\n",
       "    <tr>\n",
       "      <th>(VT15, 20180222-24OOooVH-VG__R9F11_RN1RP3)</th>\n",
       "      <td>0</td>\n",
       "      <td>356</td>\n",
       "      <td>0.000000</td>\n",
       "    </tr>\n",
       "    <tr>\n",
       "      <th>(VT50, 20180222-71WIsaSV-VV__R2F6_RN2RP3)</th>\n",
       "      <td>0</td>\n",
       "      <td>5</td>\n",
       "      <td>0.000000</td>\n",
       "    </tr>\n",
       "  </tbody>\n",
       "</table>\n",
       "<p>3600 rows × 3 columns</p>\n",
       "</div>"
      ],
      "text/plain": [
       "                                            Positive  Negative  Proportion\n",
       "(VT20, 20180222-57NYooVH-VT__R7F2_RN1RP3)      29136    153523    0.159510\n",
       "(VT23, 20180222-57NYooVH-VT__R7F2_RN1RP3)      28908    143882    0.167301\n",
       "(VT19, 20180222-57NYooVH-VT__R7F2_RN1RP3)      28858    148776    0.162458\n",
       "(VT23, 20180222-70OOooVH-VT__R7F4_RN1RP3)      28838    142644    0.168169\n",
       "(VT24, 20180222-57NYooVH-VT__R7F2_RN1RP3)      28833    144388    0.166452\n",
       "...                                              ...       ...         ...\n",
       "(VT15, 20180222-24NYsaVH-VG__R3F17_RN1RP3)         0      1534    0.000000\n",
       "(VT15, 20180222-24OOooVH-VG__R9F9_RN1RP1)          0       352    0.000000\n",
       "(VT15, 20180222-24OOooVH-VG__R9F10_RN1RP2)         0       309    0.000000\n",
       "(VT15, 20180222-24OOooVH-VG__R9F11_RN1RP3)         0       356    0.000000\n",
       "(VT50, 20180222-71WIsaSV-VV__R2F6_RN2RP3)          0         5    0.000000\n",
       "\n",
       "[3600 rows x 3 columns]"
      ]
     },
     "execution_count": 32,
     "metadata": {},
     "output_type": "execute_result"
    }
   ],
   "source": [
    "corr_equals_masked_df.sort_values(by='Positive', ascending=False)"
   ]
  },
  {
   "cell_type": "code",
   "execution_count": 57,
   "metadata": {},
   "outputs": [],
   "source": [
    "# Custom Difference Metric\n",
    "col_vt = list(df_vt_itx.columns)\n",
    "col_48 = list(df_48_itx.columns)\n",
    "\n",
    "corr_dict = {}\n",
    "\n",
    "for col_1 in col_vt:\n",
    "    for col_2 in col_48:\n",
    "        corr_dict[(col_1,col_2)] = custom_diff_metric(df_48_itx[col_2],df_vt_itx[col_1])\n",
    "        \n",
    "corr_dict_keys = []\n",
    "corr_tuple = []\n",
    "\n",
    "for key, val in corr_dict.items():\n",
    "    corr_dict_keys.append(key)\n",
    "    corr_tuple.append(val)\n",
    "\n",
    "custom_diff_df = pd.DataFrame(corr_tuple,\n",
    "                            index=corr_dict_keys, columns=['Custom_Difference', 'Matched_Rows'])"
   ]
  },
  {
   "cell_type": "code",
   "execution_count": 60,
   "metadata": {},
   "outputs": [],
   "source": [
    "custom_diff_df.sort_values(by='Custom_Difference', ascending=True).to_csv('custom_diff_metric_comparison.csv')"
   ]
  },
  {
   "cell_type": "markdown",
   "metadata": {},
   "source": [
    "## Compare Totals Approach:\n",
    "\n",
    "1. Load untruncated sequences.\n",
    "2. Sum up across columns. \n",
    "3. Save and compare csv files manually."
   ]
  },
  {
   "cell_type": "code",
   "execution_count": 63,
   "metadata": {},
   "outputs": [
    {
     "name": "stdout",
     "output_type": "stream",
     "text": [
      "Length of DF_VT before: 3095530\n",
      "Len after 3095526\n"
     ]
    }
   ],
   "source": [
    "df_vt, vt_first_row = load_vt_unfiltered_df(VT_FILE_PATH, trim=False, keep='sum')"
   ]
  },
  {
   "cell_type": "code",
   "execution_count": 62,
   "metadata": {},
   "outputs": [
    {
     "name": "stdout",
     "output_type": "stream",
     "text": [
      "Length of DF data_files/unzipped_files\\20180222-24NYooVH-VG.txt before: 3048\n",
      "0\n",
      "Len after 3048\n",
      "Length of DF data_files/unzipped_files\\20180222-24NYsaVH-VG.txt before: 438900\n",
      "0\n",
      "Len after 438900\n",
      "Length of DF data_files/unzipped_files\\20180222-24OOooVH-VG.txt before: 2971\n",
      "0\n",
      "Len after 2971\n",
      "Length of DF data_files/unzipped_files\\20180222-24OOsaVH-VG.txt before: 384306\n",
      "0\n",
      "Len after 384306\n",
      "Length of DF data_files/unzipped_files\\20180222-24WIooVH-VG.txt before: 4831\n",
      "0\n",
      "Len after 4831\n",
      "Length of DF data_files/unzipped_files\\20180222-24WIooVL-VG.txt before: 3564\n",
      "0\n",
      "Len after 3564\n",
      "Length of DF data_files/unzipped_files\\20180222-24WIsaVH-VG.txt before: 4636\n",
      "0\n",
      "Len after 4636\n",
      "Length of DF data_files/unzipped_files\\20180222-24WIsaVL-VG.txt before: 231618\n",
      "2\n",
      "Len after 231616\n",
      "Length of DF data_files/unzipped_files\\20180222-57NYooVH-VT.txt before: 219326\n",
      "0\n",
      "Len after 219326\n",
      "Length of DF data_files/unzipped_files\\20180222-57NYsaVH-VT.txt before: 219520\n",
      "0\n",
      "Len after 219520\n",
      "Length of DF data_files/unzipped_files\\20180222-57OOooVH-VT.txt before: 180067\n",
      "0\n",
      "Len after 180067\n",
      "Length of DF data_files/unzipped_files\\20180222-57OOsaVH-VT.txt before: 226641\n",
      "0\n",
      "Len after 226641\n",
      "Length of DF data_files/unzipped_files\\20180222-57WIooVB-VT.txt before: 138126\n",
      "0\n",
      "Len after 138126\n",
      "Length of DF data_files/unzipped_files\\20180222-57WIooVH-VT.txt before: 205076\n",
      "0\n",
      "Len after 205076\n",
      "Length of DF data_files/unzipped_files\\20180222-57WIooVL-VT.txt before: 196168\n",
      "0\n",
      "Len after 196168\n",
      "Length of DF data_files/unzipped_files\\20180222-57WIsaVB-VT.txt before: 108468\n",
      "0\n",
      "Len after 108468\n",
      "Length of DF data_files/unzipped_files\\20180222-57WIsaVH-VT.txt before: 215116\n",
      "0\n",
      "Len after 215116\n",
      "Length of DF data_files/unzipped_files\\20180222-57WIsaVL-VT.txt before: 216314\n",
      "0\n",
      "Len after 216314\n",
      "Length of DF data_files/unzipped_files\\20180222-70OOooVH-VT.txt before: 145124\n",
      "0\n",
      "Len after 145124\n",
      "Length of DF data_files/unzipped_files\\20180222-71NYsaSL-VV.txt before: 221920\n",
      "0\n",
      "Len after 221920\n",
      "Length of DF data_files/unzipped_files\\20180222-71OOooPA-VV.txt before: 13483\n",
      "0\n",
      "Len after 13483\n",
      "Length of DF data_files/unzipped_files\\20180222-71OOsaSL-VV.txt before: 273867\n",
      "0\n",
      "Len after 273867\n",
      "Length of DF data_files/unzipped_files\\20180222-71WIooPA-VV.txt before: 9798\n",
      "0\n",
      "Len after 9798\n",
      "Length of DF data_files/unzipped_files\\20180222-71WIsaSL-VV.txt before: 26672\n",
      "0\n",
      "Len after 26672\n",
      "Length of DF data_files/unzipped_files\\20180222-71WIsaSV-VV.txt before: 17495\n",
      "0\n",
      "Len after 17495\n"
     ]
    }
   ],
   "source": [
    "df_48, df_48_first_row = load_48_hd_files(HD_48_FILE_PATH, False, False)"
   ]
  },
  {
   "cell_type": "code",
   "execution_count": 66,
   "metadata": {},
   "outputs": [],
   "source": [
    "df_vt.sum(axis=0).to_csv('sum_count_vt_comparison.csv')"
   ]
  },
  {
   "cell_type": "code",
   "execution_count": 68,
   "metadata": {},
   "outputs": [],
   "source": [
    "df_48.sum(axis=0).to_csv('sum_count_48_comparision.csv')"
   ]
  },
  {
   "cell_type": "markdown",
   "metadata": {},
   "source": [
    "# Untrimmed Appraoach\n",
    "\n",
    "Do the same comparisions but without any truncations to the nucleotide sequences."
   ]
  },
  {
   "cell_type": "code",
   "execution_count": 69,
   "metadata": {},
   "outputs": [
    {
     "name": "stdout",
     "output_type": "stream",
     "text": [
      "Len 48 DF: 2239967\n",
      "Len VT DF: 3095526\n"
     ]
    }
   ],
   "source": [
    "print(f'Len 48 DF: {len(df_48)}\\nLen VT DF: {len(df_vt)}')"
   ]
  },
  {
   "cell_type": "code",
   "execution_count": 70,
   "metadata": {},
   "outputs": [],
   "source": [
    "intersecting_nucleotides = df_vt.index.intersection(df_48.index)\n",
    "# Creates new dfs which only contain the intersecting nuc sequences so they can be compared\n",
    "# The order of indices is the same in both dfs so they can be easily compared!\n",
    "\n",
    "df_vt_itx = df_vt.loc[intersecting_nucleotides]\n",
    "df_48_itx = df_48.loc[intersecting_nucleotides]"
   ]
  },
  {
   "cell_type": "code",
   "execution_count": 71,
   "metadata": {},
   "outputs": [
    {
     "data": {
      "text/plain": [
       "Index(['AAAAAAATATTATTCGCAATTCCTTTAGTGGTACCTTTCTATTCTCAC',\n",
       "       'AAAAAAATGCTTTTCGCTATTCCACTTGTGGTACCTTTCTATTCTCACTCTCAGTTTACGTAGCTGCATCAGGGTGGAGGT',\n",
       "       'AAAAAACAGCTGTTTGCGATCCCTCTAGTGGTACCTTTCTATTCTCACTCTCAGTTTACGTAGCTGCATCAGGGTGGAGGT',\n",
       "       'AAAAAACTACTATTCGCGATTCCGCTTGTGGTACCTTTCTATTCTCACTCTTCTATCTGTATCTACCCGTGTGGTGGAGGT',\n",
       "       'AAAAAACTACTATTCGCGATTCCGCTTGTGGTACCTTTCTATTCTCACTCTTCTATGTGTGCTTACTTCTGTGGTGGAGGT',\n",
       "       'AAAAAACTACTATTCGCGATTCCGCTTGTGGTACCTTTCTATTCTCACTCTTCTCATTGTTACGTTTACTGTGGTGGAGGT',\n",
       "       'AAAAAACTACTATTCGCGATTCCGCTTGTGGTACCTTTCTATTCTCACTCTTCTCCGTGTATCCTGGAATGTGGTGGAGGT',\n",
       "       'AAAAAACTACTATTCGCGATTCCGCTTGTGGTACCTTTCTATTCTCACTCTTCTCCGTGTATGTTCGACTGTGGTGGAGGT',\n",
       "       'AAAAAACTACTATTCGCGATTCCGCTTGTGGTACCTTTCTATTCTCACTCTTCTGAATGTGGTTCTATCTGTGGTGGAGGT',\n",
       "       'AAAAAACTACTATTCGCGATTCCGCTTGTGGTACCTTTCTATTCTCACTCTTCTGCTTGTAAACATGGTTGTGGTGGAGGT',\n",
       "       ...\n",
       "       'AAAGAATTATTATTCGCAATTCCTTTAGTGGTACCTTTCTATTCTCAC',\n",
       "       'AAATAATTATTATTCGCAATTCCTTTAGTGGTACCTTTCTATTCTCAC',\n",
       "       'AAATAATTATTATTCGCAATTCCTTTAGTGGTACCTTTCTATTCTCACTCTTCCCATACTCATGATAGTGTTGAGGGTGGAGGT',\n",
       "       'AAGAAATTATTATTCGCAATTCCTTTAGTGGTACCTTTCTATTCTCAC',\n",
       "       'AATAAATTATTATTCGCAATTCCTTTAGTGGTACCTTTCTATTCTCAC',\n",
       "       'AGAAAATTATTATTCGCAATTCCTTTAGTGGTACCTTTCTATTCTCAC',\n",
       "       'ATAAAATTATTATTCGCAATTCCTTTAGTGGTACCTTTCTATTCTCAC',\n",
       "       'GAAAAATTATTATTCGCAATTCCTTTAGTGGTACCTTTCTATTCTCAC',\n",
       "       'GAAAAATTATTATTCGCAATTCCTTTAGTGGTACCTTTCTATTCTCACTCTTCCCATACTCATGATAGTGTTGAGGGTGGAGGT',\n",
       "       'TAAAAATTATTATTCGCAATTCCTTTAGTGGTACCTTTCTATTCTCAC'],\n",
       "      dtype='object', name='Nuc', length=48294)"
      ]
     },
     "execution_count": 71,
     "metadata": {},
     "output_type": "execute_result"
    }
   ],
   "source": [
    "intersecting_nucleotides"
   ]
  },
  {
   "cell_type": "code",
   "execution_count": 73,
   "metadata": {},
   "outputs": [
    {
     "data": {
      "text/plain": [
       "1.5601225769061542"
      ]
     },
     "execution_count": 73,
     "metadata": {},
     "output_type": "execute_result"
    }
   ],
   "source": [
    "len(intersecting_nucleotides)/len(df_vt)*100"
   ]
  },
  {
   "cell_type": "code",
   "execution_count": 74,
   "metadata": {},
   "outputs": [],
   "source": [
    "# Given the low intersection, might as well not continue on this. "
   ]
  }
 ],
 "metadata": {
  "kernelspec": {
   "display_name": "Python 3",
   "language": "python",
   "name": "python3"
  },
  "language_info": {
   "codemirror_mode": {
    "name": "ipython",
    "version": 3
   },
   "file_extension": ".py",
   "mimetype": "text/x-python",
   "name": "python",
   "nbconvert_exporter": "python",
   "pygments_lexer": "ipython3",
   "version": "3.9.4"
  }
 },
 "nbformat": 4,
 "nbformat_minor": 4
}
